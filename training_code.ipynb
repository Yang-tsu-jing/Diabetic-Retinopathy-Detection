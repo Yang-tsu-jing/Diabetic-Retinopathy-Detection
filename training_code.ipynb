{
 "cells": [
  {
   "cell_type": "code",
   "execution_count": 1,
   "id": "160cc081-915e-4111-9748-8709f41b8ba3",
   "metadata": {},
   "outputs": [
    {
     "name": "stderr",
     "output_type": "stream",
     "text": [
      "C:\\Users\\DSP523\\AppData\\Local\\Temp\\ipykernel_18180\\3586345711.py:12: DeprecationWarning: \n",
      "Pyarrow will become a required dependency of pandas in the next major release of pandas (pandas 3.0),\n",
      "(to allow more performant data types, such as the Arrow string type, and better interoperability with other libraries)\n",
      "but was not found to be installed on your system.\n",
      "If this would cause problems for you,\n",
      "please provide us feedback at https://github.com/pandas-dev/pandas/issues/54466\n",
      "        \n",
      "  import pandas as pd\n"
     ]
    },
    {
     "name": "stdout",
     "output_type": "stream",
     "text": [
      "cpu\n"
     ]
    }
   ],
   "source": [
    "import torch\n",
    "import torch.nn as nn\n",
    "import torch.optim as optim\n",
    "from torch.utils.data import Dataset, DataLoader, ConcatDataset\n",
    "from torch.optim import lr_scheduler\n",
    "import torchvision\n",
    "from torchvision import datasets, transforms\n",
    "from PIL import Image\n",
    "import os\n",
    "import csv\n",
    "import numpy as np\n",
    "import pandas as pd\n",
    "from tqdm import tqdm\n",
    "import matplotlib.pyplot as plt\n",
    "\n",
    "from models import *\n",
    "from function import *\n",
    "\n",
    "device = \"cuda\" if torch.cuda.is_available() else \"cpu\"\n",
    "print(device)"
   ]
  },
  {
   "cell_type": "code",
   "execution_count": 9,
   "id": "49c0a5eb-230f-4609-b8c2-d295efaff607",
   "metadata": {},
   "outputs": [],
   "source": [
    "# Argument\n",
    "batch_size = 32\n",
    "epochs = 10"
   ]
  },
  {
   "cell_type": "code",
   "execution_count": 3,
   "id": "1f049ac3-e6d9-457b-8e96-e0c1df10195d",
   "metadata": {},
   "outputs": [],
   "source": [
    "train_tfm = transforms.Compose([\n",
    "    transforms.Resize((224, 224)),\n",
    "    transforms.ToTensor()\n",
    "])"
   ]
  },
  {
   "cell_type": "code",
   "execution_count": 4,
   "id": "c41df0ff-1e55-4159-aa9f-da8f4e72f997",
   "metadata": {},
   "outputs": [],
   "source": [
    "train_set = trainDataset('retina-train', 'train_labels.csv', train_tfm)\n",
    "train_set_size = int(len(train_set) * 0.8)\n",
    "train_set, valid_set = torch.utils.data.random_split(train_set, [train_set_size, len(train_set) - train_set_size])\n",
    "\n",
    "test_set = testDataset('retina-test', train_tfm)\n",
    "train_loader = DataLoader(train_set, batch_size=batch_size, shuffle=False, num_workers=0)\n",
    "valid_loader = DataLoader(valid_set, batch_size=batch_size, shuffle=False, num_workers=0)\n",
    "test_loader = DataLoader(test_set, batch_size=batch_size, shuffle=False, num_workers=0)"
   ]
  },
  {
   "cell_type": "code",
   "execution_count": 5,
   "id": "6a519db3",
   "metadata": {},
   "outputs": [],
   "source": [
    "def Plot(title, ylabel, epochs, train_loss, valid_loss):\n",
    "    plt.figure()\n",
    "    plt.title(title)\n",
    "    plt.xlabel('epochs')\n",
    "    plt.ylabel(ylabel)\n",
    "    plt.plot(epochs, train_loss)\n",
    "    plt.plot(epochs, valid_loss)\n",
    "    plt.legend(['train', 'valid'], loc='upper left')\n",
    "    plt.savefig('PIC' + title + \".png\")"
   ]
  },
  {
   "cell_type": "code",
   "execution_count": 10,
   "id": "7352b7a8-0568-436f-a05a-a56c26a5ac65",
   "metadata": {
    "scrolled": true
   },
   "outputs": [
    {
     "name": "stderr",
     "output_type": "stream",
     "text": [
      "100%|██████████| 53/53 [00:10<00:00,  5.25it/s]\n"
     ]
    },
    {
     "name": "stdout",
     "output_type": "stream",
     "text": [
      "Epoch 1 / 10 | train_accs = 0.5743405275779376 & train_loss = 0.030803473197298942\n"
     ]
    },
    {
     "name": "stderr",
     "output_type": "stream",
     "text": [
      "100%|██████████| 14/14 [00:01<00:00, 11.50it/s]\n"
     ]
    },
    {
     "name": "stdout",
     "output_type": "stream",
     "text": [
      "Epoch 1 / 10 | validation_accs = 0.5789473684210527 & validation_loss = 0.032778986475684425\n"
     ]
    },
    {
     "name": "stderr",
     "output_type": "stream",
     "text": [
      "100%|██████████| 53/53 [00:09<00:00,  5.67it/s]\n"
     ]
    },
    {
     "name": "stdout",
     "output_type": "stream",
     "text": [
      "Epoch 2 / 10 | train_accs = 0.5833333333333334 & train_loss = 0.03077503102574703\n"
     ]
    },
    {
     "name": "stderr",
     "output_type": "stream",
     "text": [
      "100%|██████████| 14/14 [00:01<00:00, 12.11it/s]\n"
     ]
    },
    {
     "name": "stdout",
     "output_type": "stream",
     "text": [
      "Epoch 2 / 10 | validation_accs = 0.5789473684210527 & validation_loss = 0.03268981407703966\n"
     ]
    },
    {
     "name": "stderr",
     "output_type": "stream",
     "text": [
      "100%|██████████| 53/53 [00:09<00:00,  5.87it/s]\n"
     ]
    },
    {
     "name": "stdout",
     "output_type": "stream",
     "text": [
      "Epoch 3 / 10 | train_accs = 0.5833333333333334 & train_loss = 0.030524087323845147\n"
     ]
    },
    {
     "name": "stderr",
     "output_type": "stream",
     "text": [
      "100%|██████████| 14/14 [00:01<00:00, 11.99it/s]\n"
     ]
    },
    {
     "name": "stdout",
     "output_type": "stream",
     "text": [
      "Epoch 3 / 10 | validation_accs = 0.5789473684210527 & validation_loss = 0.032558442730652656\n"
     ]
    },
    {
     "name": "stderr",
     "output_type": "stream",
     "text": [
      "100%|██████████| 53/53 [00:08<00:00,  5.91it/s]\n"
     ]
    },
    {
     "name": "stdout",
     "output_type": "stream",
     "text": [
      "Epoch 4 / 10 | train_accs = 0.5833333333333334 & train_loss = 0.030639081836032638\n"
     ]
    },
    {
     "name": "stderr",
     "output_type": "stream",
     "text": [
      "100%|██████████| 14/14 [00:01<00:00, 12.10it/s]\n"
     ]
    },
    {
     "name": "stdout",
     "output_type": "stream",
     "text": [
      "Epoch 4 / 10 | validation_accs = 0.5789473684210527 & validation_loss = 0.03276573470905067\n"
     ]
    },
    {
     "name": "stderr",
     "output_type": "stream",
     "text": [
      "100%|██████████| 53/53 [00:09<00:00,  5.64it/s]\n"
     ]
    },
    {
     "name": "stdout",
     "output_type": "stream",
     "text": [
      "Epoch 5 / 10 | train_accs = 0.5833333333333334 & train_loss = 0.03081107436181258\n"
     ]
    },
    {
     "name": "stderr",
     "output_type": "stream",
     "text": [
      "100%|██████████| 14/14 [00:01<00:00, 11.25it/s]\n"
     ]
    },
    {
     "name": "stdout",
     "output_type": "stream",
     "text": [
      "Epoch 5 / 10 | validation_accs = 0.5789473684210527 & validation_loss = 0.03273558374226949\n"
     ]
    },
    {
     "name": "stderr",
     "output_type": "stream",
     "text": [
      "100%|██████████| 53/53 [00:08<00:00,  5.94it/s]\n"
     ]
    },
    {
     "name": "stdout",
     "output_type": "stream",
     "text": [
      "Epoch 6 / 10 | train_accs = 0.5833333333333334 & train_loss = 0.030740259148234087\n"
     ]
    },
    {
     "name": "stderr",
     "output_type": "stream",
     "text": [
      "100%|██████████| 14/14 [00:01<00:00, 12.14it/s]\n"
     ]
    },
    {
     "name": "stdout",
     "output_type": "stream",
     "text": [
      "Epoch 6 / 10 | validation_accs = 0.5789473684210527 & validation_loss = 0.0325853754744005\n"
     ]
    },
    {
     "name": "stderr",
     "output_type": "stream",
     "text": [
      "100%|██████████| 53/53 [00:08<00:00,  5.99it/s]\n"
     ]
    },
    {
     "name": "stdout",
     "output_type": "stream",
     "text": [
      "Epoch 7 / 10 | train_accs = 0.5833333333333334 & train_loss = 0.030832070598213506\n"
     ]
    },
    {
     "name": "stderr",
     "output_type": "stream",
     "text": [
      "100%|██████████| 14/14 [00:01<00:00, 11.78it/s]\n"
     ]
    },
    {
     "name": "stdout",
     "output_type": "stream",
     "text": [
      "Epoch 7 / 10 | validation_accs = 0.5789473684210527 & validation_loss = 0.03273465159977452\n"
     ]
    },
    {
     "name": "stderr",
     "output_type": "stream",
     "text": [
      "100%|██████████| 53/53 [00:08<00:00,  5.97it/s]\n"
     ]
    },
    {
     "name": "stdout",
     "output_type": "stream",
     "text": [
      "Epoch 8 / 10 | train_accs = 0.5833333333333334 & train_loss = 0.03078593188624302\n"
     ]
    },
    {
     "name": "stderr",
     "output_type": "stream",
     "text": [
      "100%|██████████| 14/14 [00:01<00:00, 12.20it/s]\n"
     ]
    },
    {
     "name": "stdout",
     "output_type": "stream",
     "text": [
      "Epoch 8 / 10 | validation_accs = 0.5789473684210527 & validation_loss = 0.03273206093664945\n"
     ]
    },
    {
     "name": "stderr",
     "output_type": "stream",
     "text": [
      "100%|██████████| 53/53 [00:08<00:00,  5.97it/s]\n"
     ]
    },
    {
     "name": "stdout",
     "output_type": "stream",
     "text": [
      "Epoch 9 / 10 | train_accs = 0.5833333333333334 & train_loss = 0.030781526752798962\n"
     ]
    },
    {
     "name": "stderr",
     "output_type": "stream",
     "text": [
      "100%|██████████| 14/14 [00:01<00:00, 12.26it/s]\n"
     ]
    },
    {
     "name": "stdout",
     "output_type": "stream",
     "text": [
      "Epoch 9 / 10 | validation_accs = 0.5789473684210527 & validation_loss = 0.03272776141691436\n"
     ]
    },
    {
     "name": "stderr",
     "output_type": "stream",
     "text": [
      "100%|██████████| 53/53 [00:08<00:00,  6.03it/s]\n"
     ]
    },
    {
     "name": "stdout",
     "output_type": "stream",
     "text": [
      "Epoch 10 / 10 | train_accs = 0.5833333333333334 & train_loss = 0.030774072956124082\n"
     ]
    },
    {
     "name": "stderr",
     "output_type": "stream",
     "text": [
      "100%|██████████| 14/14 [00:01<00:00, 12.28it/s]\n"
     ]
    },
    {
     "name": "stdout",
     "output_type": "stream",
     "text": [
      "Epoch 10 / 10 | validation_accs = 0.5789473684210527 & validation_loss = 0.032720172804508486\n"
     ]
    },
    {
     "data": {
      "image/png": "[encoded data removed]",
      "text/plain": [
       "<Figure size 640x480 with 1 Axes>"
      ]
     },
     "metadata": {},
     "output_type": "display_data"
    },
    {
     "data": {
      "image/png": "[encoded data removed]",
      "text/plain": [
       "<Figure size 640x480 with 1 Axes>"
      ]
     },
     "metadata": {},
     "output_type": "display_data"
    }
   ],
   "source": [
    "model = Classification(3, 3)\n",
    "model = model.to(device)\n",
    "\n",
    "criterion = nn.CrossEntropyLoss()\n",
    "optimizer = optim.Adam(model.parameters(), lr=0.01)\n",
    "scheduler = lr_scheduler.StepLR(optimizer, step_size = 7, gamma = 0.1)\n",
    "softmax = nn.Softmax(dim = -1)\n",
    "\n",
    "\n",
    "train_loss = []\n",
    "train_accs = []\n",
    "valid_loss = []\n",
    "valid_accs = []\n",
    "    \n",
    "for epoch in range(epochs):\n",
    "    tl = 0\n",
    "    ta = 0\n",
    "    total = 0\n",
    "    model.train()\n",
    "    for batch in tqdm(train_loader):\n",
    "        imgs, labels = batch\n",
    "        imgs, labels = imgs.to(device), labels.to(device)\n",
    "        \n",
    "        optimizer.zero_grad()\n",
    "        outputs = model(imgs)\n",
    "     \n",
    "        loss = criterion(outputs, labels)\n",
    "        loss.backward()\n",
    "        optimizer.step()\n",
    "\n",
    "        tl += loss.item()\n",
    "        _, preds = torch.max(outputs, 1)\n",
    "        total += labels.size(0)\n",
    "        ta += (preds == labels).sum().item()\n",
    "    scheduler.step()\n",
    "    print(f'Epoch {epoch+1} / {epochs} | train_accs = {ta / total} & train_loss = {tl / total}')\n",
    "\n",
    "    model.eval()\n",
    "    vl = 0.0\n",
    "    va = 0\n",
    "    total = 0\n",
    "    with torch.no_grad():\n",
    "        for batch in tqdm(valid_loader):\n",
    "            imgs, labels = batch\n",
    "            imgs, labels = imgs.to(device), labels.to(device)\n",
    "            outputs = model(imgs)\n",
    "            loss = criterion(outputs, labels)\n",
    "            vl += loss.item()\n",
    "            _, preds= torch.max(outputs, 1)\n",
    "            total += labels.size(0)\n",
    "            va += (preds == labels).sum().item()\n",
    "\n",
    "    print(f'Epoch {epoch+1} / {epochs} | validation_accs = {va / total} & validation_loss = {vl / total}')\n",
    "    train_loss.append(tl / total)\n",
    "    train_accs.append(ta / total)\n",
    "    valid_loss.append(vl / total)\n",
    "    valid_accs.append(va / total)\n",
    "\n",
    "torch.save(model.state_dict(), './checkpoints/proj1_baseline.pth')\n",
    "Plot('Loss_Curve', 'Loss', range(1, epochs+1), train_loss, valid_loss)\n",
    "Plot('Accuracy_Curve', 'Accuracy', range(1, epochs+1), train_accs, valid_accs)"
   ]
  },
  {
   "cell_type": "code",
   "execution_count": 8,
   "id": "5d6cc6c7-35a2-47b5-845f-0d508792e8f6",
   "metadata": {},
   "outputs": [
    {
     "name": "stderr",
     "output_type": "stream",
     "text": [
      "100%|██████████| 17/17 [00:01<00:00, 10.58it/s]\n"
     ]
    }
   ],
   "source": [
    "preds_list = []\n",
    "\n",
    "with torch.no_grad():\n",
    "    for batch in tqdm(test_loader):\n",
    "        imgs = batch\n",
    "        imgs = imgs.to(device)\n",
    "        outputs = model(imgs)\n",
    "        _, preds= torch.max(outputs, 1)\n",
    "        preds_list += preds.tolist()\n",
    "\n",
    "name = sorted(os.listdir(\"retina-test\"))\n",
    "for i in range(len(name)):\n",
    "    name[i], _ = name[i].split('.')\n",
    "\n",
    "submission ={\"image\" : name, \"level\" : preds_list}\n",
    "file = pd.DataFrame(submission)\n",
    "file.to_csv(\"submission1.csv\", index = False)"
   ]
  },
  {
   "cell_type": "code",
   "execution_count": null,
   "id": "9108fb84-d793-4bd9-9817-5a1f18aee3a4",
   "metadata": {},
   "outputs": [],
   "source": []
  }
 ],
 "metadata": {
  "kernelspec": {
   "display_name": "Python 3 (ipykernel)",
   "language": "python",
   "name": "python3"
  },
  "language_info": {
   "codemirror_mode": {
    "name": "ipython",
    "version": 3
   },
   "file_extension": ".py",
   "mimetype": "text/x-python",
   "name": "python",
   "nbconvert_exporter": "python",
   "pygments_lexer": "ipython3",
   "version": "3.12.2"
  }
 },
 "nbformat": 4,
 "nbformat_minor": 5
}
